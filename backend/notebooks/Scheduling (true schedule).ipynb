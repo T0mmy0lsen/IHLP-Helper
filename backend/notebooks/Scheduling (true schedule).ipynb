{
 "cells": [
  {
   "cell_type": "markdown",
   "metadata": {
    "collapsed": true,
    "pycharm": {
     "name": "#%% md\n"
    }
   },
   "source": []
  },
  {
   "cell_type": "code",
   "execution_count": 46,
   "outputs": [
    {
     "name": "stdout",
     "output_type": "stream",
     "text": [
      "alib    13724\n",
      "ep      13670\n",
      "rasp    10703\n",
      "Name: user, dtype: int64\n",
      "        consumption      received      solution  user_as_index\n",
      "count  38097.000000  3.809700e+04  3.809700e+04   38097.000000\n",
      "mean       1.635431  1.560657e+09  1.561090e+09      31.138515\n",
      "std        1.419082  5.768741e+07  5.776723e+07      33.648785\n",
      "min        0.000000  1.450250e+09  1.450259e+09       3.000000\n",
      "25%        0.000000  1.511167e+09  1.511493e+09       3.000000\n",
      "50%        1.000000  1.556788e+09  1.557225e+09      18.000000\n",
      "75%        3.000000  1.609747e+09  1.609938e+09      84.000000\n",
      "max        4.000000  1.664281e+09  1.666011e+09      84.000000\n"
     ]
    }
   ],
   "source": [
    "import pandas as pd\n",
    "\n",
    "df_time_consume = pd.read_csv('data/label_time.csv')\n",
    "df_time_complete = pd.read_csv('data/label_time_complete.csv')\n",
    "df_users_top_100 = pd.read_csv('data/label_users_top_100.csv')\n",
    "\n",
    "df = pd.merge(df_time_consume, df_time_complete, on='id', how='inner')\n",
    "df = pd.merge(df, df_users_top_100, on='id', how='inner')\n",
    "df = df.rename(columns={\n",
    "    'label_users_top_100': 'user_as_index',\n",
    "    'label_closed': 'user',\n",
    "    'received_time': 'received',\n",
    "    'label_bins': 'consumption',\n",
    "    'time_bins_solution_timestamp': 'solution'\n",
    "})\n",
    "\n",
    "df = df[['consumption', 'received', 'solution', 'user', 'user_as_index']]\n",
    "df = df[df.user_as_index.isin([3, 18, 84])]\n",
    "# df = df[:2000]\n",
    "\n",
    "print(df.user.value_counts())\n",
    "print(df.describe())"
   ],
   "metadata": {
    "collapsed": false,
    "pycharm": {
     "name": "#%%\n"
    }
   }
  },
  {
   "cell_type": "markdown",
   "source": [
    "### Time Consumption: time_consume\n",
    "Interval is in rounded minutes\n",
    "- 0: 0 - 2\n",
    "- 1: 2 - 5\n",
    "- 2: 6 - 10\n",
    "- 3: 11 - 25\n",
    "- 4: 26 - 50\n",
    "\n",
    "### Time Completion: time_complete\n",
    "Interval is in minutes\n",
    "- 0: 0 - 4  (240 seconds)\n",
    "- 1: 4 - 105  (6300 seconds)\n",
    "- 2: 105 - 3791 (2.6 days) (227460 seconds)\n",
    "- 3: 3791 - 14633 (10.2 days) (877980 seconds)\n",
    "- 4: 14633 - 44640 (31 days) (2678400 seconds)"
   ],
   "metadata": {
    "collapsed": false,
    "pycharm": {
     "name": "#%% md\n"
    }
   }
  },
  {
   "cell_type": "code",
   "execution_count": 47,
   "outputs": [
    {
     "name": "stdout",
     "output_type": "stream",
     "text": [
      "3\n"
     ]
    }
   ],
   "source": [
    "print(len(df.user.value_counts()))"
   ],
   "metadata": {
    "collapsed": false,
    "pycharm": {
     "name": "#%%\n"
    }
   }
  },
  {
   "cell_type": "markdown",
   "source": [
    "For every time-step (received time), give me the workload."
   ],
   "metadata": {
    "collapsed": false,
    "pycharm": {
     "name": "#%% md\n"
    }
   }
  },
  {
   "cell_type": "code",
   "execution_count": 48,
   "outputs": [],
   "source": [
    "class Workload:\n",
    "    \n",
    "    def set(self, key, value):\n",
    "        self.__setattr__(key, value)\n",
    "\n",
    "    def get(self, key):\n",
    "        return self.__getattribute__(key)"
   ],
   "metadata": {
    "collapsed": false,
    "pycharm": {
     "name": "#%%\n"
    }
   }
  },
  {
   "cell_type": "code",
   "execution_count": 49,
   "outputs": [],
   "source": [
    "from tqdm import tqdm\n",
    "\n",
    "import numpy as np\n",
    "import matplotlib.pyplot as plt\n",
    "\n",
    "columns = ['timestamp']\n",
    "columns = columns + [f'workload_{i}' for i in list(range(len(df.user.value_counts())))]\n",
    "\n",
    "counts = []\n",
    "workloads = []\n",
    "\n",
    "users = df.user.unique()\n",
    "\n",
    "last_timestamp = 0"
   ],
   "metadata": {
    "collapsed": false,
    "pycharm": {
     "name": "#%%\n"
    }
   }
  },
  {
   "cell_type": "code",
   "execution_count": 50,
   "outputs": [
    {
     "name": "stderr",
     "output_type": "stream",
     "text": [
      "100%|██████████| 38097/38097 [01:24<00:00, 453.45it/s]\n"
     ]
    }
   ],
   "source": [
    "for i, el in tqdm(df.iterrows(), total=len(df)):\n",
    "\n",
    "    # Give me all elements that comes before and including el.received.\n",
    "    # Remove all elements that has a solution before and including el.received.\n",
    "    tmp = df[df.received <= el.received]\n",
    "    tmp = tmp[tmp.solution >= el.received]\n",
    "\n",
    "    # Gives a overview over how many open issues there are over time.\n",
    "    counts.append(len(tmp))\n",
    "\n",
    "    workload = Workload()\n",
    "\n",
    "    for user in users:\n",
    "        tmp_for_user = tmp[tmp.user == user]\n",
    "        workload.set(user, tmp_for_user.consumption.sum())\n",
    "\n",
    "    workloads.append(workload)"
   ],
   "metadata": {
    "collapsed": false,
    "pycharm": {
     "name": "#%%\n"
    }
   }
  },
  {
   "cell_type": "code",
   "execution_count": 1,
   "outputs": [
    {
     "ename": "NameError",
     "evalue": "name 'users' is not defined",
     "output_type": "error",
     "traceback": [
      "\u001B[1;31m---------------------------------------------------------------------------\u001B[0m",
      "\u001B[1;31mNameError\u001B[0m                                 Traceback (most recent call last)",
      "Input \u001B[1;32mIn [1]\u001B[0m, in \u001B[0;36m<cell line: 2>\u001B[1;34m()\u001B[0m\n\u001B[0;32m      1\u001B[0m \u001B[38;5;66;03m# plt.plot(np.array(counts), label='counts')\u001B[39;00m\n\u001B[1;32m----> 2\u001B[0m \u001B[38;5;28;01mfor\u001B[39;00m user \u001B[38;5;129;01min\u001B[39;00m \u001B[43musers\u001B[49m:\n\u001B[0;32m      3\u001B[0m     plt\u001B[38;5;241m.\u001B[39mplot([e\u001B[38;5;241m.\u001B[39mget(user) \u001B[38;5;28;01mfor\u001B[39;00m e \u001B[38;5;129;01min\u001B[39;00m workloads], label\u001B[38;5;241m=\u001B[39m\u001B[38;5;124mf\u001B[39m\u001B[38;5;124m'\u001B[39m\u001B[38;5;132;01m{\u001B[39;00muser\u001B[38;5;132;01m}\u001B[39;00m\u001B[38;5;124m'\u001B[39m)\n\u001B[0;32m      5\u001B[0m plt\u001B[38;5;241m.\u001B[39mlegend()\n",
      "\u001B[1;31mNameError\u001B[0m: name 'users' is not defined"
     ]
    }
   ],
   "source": [
    "# plt.plot(np.array(counts), label='counts')\n",
    "for user in users:\n",
    "    plt.plot([e.get(user) for e in workloads], label=f'{user}')\n",
    "\n",
    "plt.legend()\n",
    "plt.show()\n",
    "\n"
   ],
   "metadata": {
    "collapsed": false,
    "pycharm": {
     "name": "#%%\n"
    }
   }
  }
 ],
 "metadata": {
  "kernelspec": {
   "display_name": "Python 3",
   "language": "python",
   "name": "python3"
  },
  "language_info": {
   "codemirror_mode": {
    "name": "ipython",
    "version": 2
   },
   "file_extension": ".py",
   "mimetype": "text/x-python",
   "name": "python",
   "nbconvert_exporter": "python",
   "pygments_lexer": "ipython2",
   "version": "2.7.6"
  }
 },
 "nbformat": 4,
 "nbformat_minor": 0
}
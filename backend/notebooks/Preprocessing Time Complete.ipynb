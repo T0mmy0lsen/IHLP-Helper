{
 "cells": [
  {
   "cell_type": "code",
   "execution_count": 35,
   "outputs": [],
   "source": [
    "import pandas as pd\n",
    "import bs4\n",
    "import re\n",
    "\n",
    "from tqdm.notebook import tqdm\n",
    "tqdm.pandas()"
   ],
   "metadata": {
    "collapsed": false,
    "pycharm": {
     "name": "#%%\n"
    }
   }
  },
  {
   "cell_type": "markdown",
   "source": [
    "### Getting the files\n",
    "We have the raw files from the database.\n",
    "These are extracted in **Microsoft SQL Manager Studio 18**, by calling a `SELECT * FROM TABLE`.\n",
    "Then, on the result-set right-click and press `save result as`."
   ],
   "metadata": {
    "collapsed": false,
    "pycharm": {
     "name": "#%% md\n"
    }
   }
  },
  {
   "cell_type": "code",
   "execution_count": 36,
   "outputs": [],
   "source": [
    "PATH_REQUESTS = 'data/database/Requests.csv'\n",
    "\n",
    "df = pd.read_csv(PATH_REQUESTS,\n",
    "                 encoding='UTF-8',\n",
    "                 delimiter=';',\n",
    "                 quotechar='\"',\n",
    "                 dtype=str,\n",
    "                 usecols=['id', 'receivedDate', 'solutionDate'])\n",
    "\n",
    "df = df.fillna('')"
   ],
   "metadata": {
    "collapsed": false,
    "pycharm": {
     "name": "#%%\n"
    }
   }
  },
  {
   "cell_type": "code",
   "execution_count": 37,
   "outputs": [],
   "source": [
    "PATH_RELATION_HISTORY = 'data/database/RelationHistory.csv'\n",
    "\n",
    "df_relation_history = pd.read_csv(PATH_RELATION_HISTORY,\n",
    "                 encoding='UTF-8',\n",
    "                 delimiter=';',\n",
    "                 quotechar='\"',\n",
    "                 dtype=str,\n",
    "                 usecols=['leftID', 'rightID', 'leftType', 'rightType', 'tblTimeStamp'])\n",
    "\n",
    "df = df.fillna('')"
   ],
   "metadata": {
    "collapsed": false,
    "pycharm": {
     "name": "#%%\n"
    }
   }
  },
  {
   "cell_type": "code",
   "execution_count": 38,
   "outputs": [],
   "source": [
    "df_relation_history = df_relation_history.sort_values(by='tblTimeStamp')\n",
    "df_relation_history = df_relation_history[df_relation_history['leftType'].isin(['RequestService', 'RequestIncident'])]\n",
    "df_relation_history = df_relation_history.drop_duplicates(subset=['rightID'], keep='last')\n",
    "\n",
    "df = pd.merge(df, df_relation_history, left_on='id', right_on='leftID', how='left')\n",
    "df = df.fillna('')"
   ],
   "metadata": {
    "collapsed": false,
    "pycharm": {
     "name": "#%%\n"
    }
   }
  },
  {
   "cell_type": "code",
   "execution_count": 39,
   "outputs": [],
   "source": [
    "import numpy as np\n",
    "\n",
    "df_with_communication = df[df['rightType'] == 'CommunicationSimple']\n",
    "df_with_communication = df_with_communication.drop_duplicates(subset=['leftID'], keep='last')\n",
    "\n",
    "df_without_communication = df[~df['leftID'].isin(np.unique(df_with_communication['leftID'].to_numpy()))]\n",
    "df_without_communication = df_without_communication.drop_duplicates(subset=['leftID'], keep='last')\n",
    "\n",
    "df = pd.concat([df_with_communication, df_without_communication])"
   ],
   "metadata": {
    "collapsed": false,
    "pycharm": {
     "name": "#%%\n"
    }
   }
  },
  {
   "cell_type": "code",
   "execution_count": 40,
   "outputs": [],
   "source": [
    "from datetime import datetime\n",
    "\n",
    "def get_last_received_time(x):\n",
    "\n",
    "    if x['receivedDate'] == '':\n",
    "        return 0\n",
    "\n",
    "    if str(x['receivedDate'])[0] == '0':\n",
    "        return 0\n",
    "\n",
    "    received = datetime.strptime(str(x['receivedDate'][:-4]), \"%Y-%m-%d %H:%M:%S\")\n",
    "    return received.timestamp()\n",
    "\n",
    "def get_last_communication_time(x):\n",
    "\n",
    "    if x['receivedDate'] == '':\n",
    "        return 0\n",
    "\n",
    "    if str(x['receivedDate'])[0] == '0':\n",
    "        return 0\n",
    "\n",
    "    result_communication = 0\n",
    "\n",
    "    if x['rightType'] == 'CommunicationSimple':\n",
    "        received = datetime.strptime(str(x['receivedDate'][:-4]), \"%Y-%m-%d %H:%M:%S\")\n",
    "        solution = datetime.strptime(str(x['tblTimeStamp'][:-4]), \"%Y-%m-%d %H:%M:%S\")\n",
    "        result_communication = int(solution.timestamp()) - int(received.timestamp())\n",
    "        if result_communication <= 0:\n",
    "            result_communication = 0\n",
    "\n",
    "    return result_communication\n",
    "\n",
    "def get_last_communication_time(x):\n",
    "\n",
    "    if x['receivedDate'] == '':\n",
    "        return 0\n",
    "\n",
    "    if str(x['receivedDate'])[0] == '0':\n",
    "        return 0\n",
    "\n",
    "    result_communication = 0\n",
    "\n",
    "    if x['rightType'] == 'CommunicationSimple':\n",
    "        received = datetime.strptime(str(x['receivedDate'][:-4]), \"%Y-%m-%d %H:%M:%S\")\n",
    "        solution = datetime.strptime(str(x['tblTimeStamp'][:-4]), \"%Y-%m-%d %H:%M:%S\")\n",
    "        result_communication = int(solution.timestamp()) - int(received.timestamp())\n",
    "        if result_communication <= 0:\n",
    "            result_communication = 0\n",
    "\n",
    "    return result_communication\n",
    "\n",
    "def get_solution_time(x):\n",
    "\n",
    "    if x['receivedDate'] == '' or x['solutionDate'] == '':\n",
    "        return 0\n",
    "\n",
    "    if str(x['receivedDate'])[0] == '0' or str(x['solutionDate'])[0] == '0':\n",
    "        return 0\n",
    "\n",
    "    received = datetime.strptime(str(x['receivedDate'][:-4]), \"%Y-%m-%d %H:%M:%S\")\n",
    "    solution = datetime.strptime(str(x['solutionDate'][:-4]), \"%Y-%m-%d %H:%M:%S\")\n",
    "    result_solution = int(solution.timestamp()) - int(received.timestamp())\n",
    "    if result_solution <= 0:\n",
    "        result_solution = 0\n",
    "\n",
    "    return result_solution\n",
    "\n",
    "def get_derived_completed_time(x):\n",
    "    if x['solution_time'] == 0:\n",
    "        return x['last_communication_time']\n",
    "    if x['last_communication_time'] == 0:\n",
    "        return x['solution_time']\n",
    "    return np.min([x['solution_time'], x['last_communication_time']])\n",
    "\n",
    "def get_time_bins(x, max_val, bins):\n",
    "    i = ((x.name + 1) * bins)\n",
    "    return int(i / (max_val + 1))\n",
    "\n",
    "def get_time_bins_timestamp(x):\n",
    "    if x.time_bins_solution == 0.0:\n",
    "        return 240.0 + x.received_time\n",
    "    elif x.time_bins_solution == 1.0:\n",
    "        return 6300.0 + x.received_time\n",
    "    elif x.time_bins_solution == 2.0:\n",
    "        return 227460.0 + x.received_time\n",
    "    elif x.time_bins_solution == 3.0:\n",
    "        return 877980.0 + x.received_time\n",
    "    elif x.time_bins_solution == 4.0:\n",
    "        return 2678400.0 + x.received_time"
   ],
   "metadata": {
    "collapsed": false,
    "pycharm": {
     "name": "#%%\n"
    }
   }
  },
  {
   "cell_type": "code",
   "execution_count": 41,
   "outputs": [
    {
     "data": {
      "text/plain": "  0%|          | 0/295432 [00:00<?, ?it/s]",
      "application/vnd.jupyter.widget-view+json": {
       "version_major": 2,
       "version_minor": 0,
       "model_id": "849fa3174ef74948aa34a0c455b86326"
      },
      "application/json": {
       "n": 0,
       "total": 295432,
       "elapsed": 0.01196742057800293,
       "ncols": null,
       "nrows": null,
       "prefix": "",
       "ascii": false,
       "unit": "it",
       "unit_scale": false,
       "rate": null,
       "bar_format": null,
       "postfix": null,
       "unit_divisor": 1000,
       "initial": 0,
       "colour": null
      }
     },
     "metadata": {},
     "output_type": "display_data"
    },
    {
     "data": {
      "text/plain": "  0%|          | 0/295432 [00:00<?, ?it/s]",
      "application/vnd.jupyter.widget-view+json": {
       "version_major": 2,
       "version_minor": 0,
       "model_id": "76b7fc234901459dbab9c423a2c857e3"
      },
      "application/json": {
       "n": 0,
       "total": 295432,
       "elapsed": 0.011967658996582031,
       "ncols": null,
       "nrows": null,
       "prefix": "",
       "ascii": false,
       "unit": "it",
       "unit_scale": false,
       "rate": null,
       "bar_format": null,
       "postfix": null,
       "unit_divisor": 1000,
       "initial": 0,
       "colour": null
      }
     },
     "metadata": {},
     "output_type": "display_data"
    },
    {
     "data": {
      "text/plain": "  0%|          | 0/295432 [00:00<?, ?it/s]",
      "application/vnd.jupyter.widget-view+json": {
       "version_major": 2,
       "version_minor": 0,
       "model_id": "32094b121dbd492e867604a36378992c"
      },
      "application/json": {
       "n": 0,
       "total": 295432,
       "elapsed": 0.011967182159423828,
       "ncols": null,
       "nrows": null,
       "prefix": "",
       "ascii": false,
       "unit": "it",
       "unit_scale": false,
       "rate": null,
       "bar_format": null,
       "postfix": null,
       "unit_divisor": 1000,
       "initial": 0,
       "colour": null
      }
     },
     "metadata": {},
     "output_type": "display_data"
    },
    {
     "data": {
      "text/plain": "  0%|          | 0/295432 [00:00<?, ?it/s]",
      "application/vnd.jupyter.widget-view+json": {
       "version_major": 2,
       "version_minor": 0,
       "model_id": "341fbe1117ce454ead3fd1e8ab90471d"
      },
      "application/json": {
       "n": 0,
       "total": 295432,
       "elapsed": 0.011966705322265625,
       "ncols": null,
       "nrows": null,
       "prefix": "",
       "ascii": false,
       "unit": "it",
       "unit_scale": false,
       "rate": null,
       "bar_format": null,
       "postfix": null,
       "unit_divisor": 1000,
       "initial": 0,
       "colour": null
      }
     },
     "metadata": {},
     "output_type": "display_data"
    }
   ],
   "source": [
    "df['solution_time'] = df.progress_apply(lambda x: get_solution_time(x), axis=1)\n",
    "df['last_communication_time'] = df.progress_apply(lambda x: get_last_communication_time(x), axis=1)\n",
    "df['derived_completed_time'] = df.progress_apply(lambda x: get_derived_completed_time(x), axis=1)\n",
    "df['received_time'] = df.progress_apply(lambda x: get_last_received_time(x), axis=1)"
   ],
   "metadata": {
    "collapsed": false,
    "pycharm": {
     "name": "#%%\n"
    }
   }
  },
  {
   "cell_type": "code",
   "execution_count": 42,
   "outputs": [],
   "source": [
    "df = df[df['received_time'] > 0]"
   ],
   "metadata": {
    "collapsed": false,
    "pycharm": {
     "name": "#%%\n"
    }
   }
  },
  {
   "cell_type": "code",
   "execution_count": 43,
   "outputs": [
    {
     "data": {
      "text/plain": "  0%|          | 0/277006 [00:00<?, ?it/s]",
      "application/vnd.jupyter.widget-view+json": {
       "version_major": 2,
       "version_minor": 0,
       "model_id": "f6766eebcda4459da68dfb5ab006d73d"
      },
      "application/json": {
       "n": 0,
       "total": 277006,
       "elapsed": 0.011968135833740234,
       "ncols": null,
       "nrows": null,
       "prefix": "",
       "ascii": false,
       "unit": "it",
       "unit_scale": false,
       "rate": null,
       "bar_format": null,
       "postfix": null,
       "unit_divisor": 1000,
       "initial": 0,
       "colour": null
      }
     },
     "metadata": {},
     "output_type": "display_data"
    }
   ],
   "source": [
    "df = df.sort_values(by='derived_completed_time')\n",
    "df = df.reset_index()\n",
    "df['time_bins_derived'] = df.progress_apply(lambda x: get_time_bins(x, len(df), 5), axis=1)"
   ],
   "metadata": {
    "collapsed": false,
    "pycharm": {
     "name": "#%%\n"
    }
   }
  },
  {
   "cell_type": "code",
   "execution_count": 44,
   "outputs": [
    {
     "data": {
      "text/plain": "  0%|          | 0/277006 [00:00<?, ?it/s]",
      "application/vnd.jupyter.widget-view+json": {
       "version_major": 2,
       "version_minor": 0,
       "model_id": "f3a672ff0acf4b2a9f188246e88b8eca"
      },
      "application/json": {
       "n": 0,
       "total": 277006,
       "elapsed": 0.010971307754516602,
       "ncols": null,
       "nrows": null,
       "prefix": "",
       "ascii": false,
       "unit": "it",
       "unit_scale": false,
       "rate": null,
       "bar_format": null,
       "postfix": null,
       "unit_divisor": 1000,
       "initial": 0,
       "colour": null
      }
     },
     "metadata": {},
     "output_type": "display_data"
    },
    {
     "data": {
      "text/plain": "  0%|          | 0/277006 [00:00<?, ?it/s]",
      "application/vnd.jupyter.widget-view+json": {
       "version_major": 2,
       "version_minor": 0,
       "model_id": "80206092b66c4edd903a42ccf1c92cc7"
      },
      "application/json": {
       "n": 0,
       "total": 277006,
       "elapsed": 0.010995626449584961,
       "ncols": null,
       "nrows": null,
       "prefix": "",
       "ascii": false,
       "unit": "it",
       "unit_scale": false,
       "rate": null,
       "bar_format": null,
       "postfix": null,
       "unit_divisor": 1000,
       "initial": 0,
       "colour": null
      }
     },
     "metadata": {},
     "output_type": "display_data"
    }
   ],
   "source": [
    "df = df.sort_values(by='solution_time')\n",
    "df = df.reset_index()\n",
    "df['time_bins_solution'] = df.progress_apply(lambda x: get_time_bins(x, len(df), 5), axis=1)\n",
    "df['time_bins_solution_timestamp'] = df.progress_apply(lambda x: get_time_bins_timestamp(x), axis=1)"
   ],
   "metadata": {
    "collapsed": false,
    "pycharm": {
     "name": "#%%\n"
    }
   }
  },
  {
   "cell_type": "code",
   "execution_count": 45,
   "outputs": [],
   "source": [
    "df = df[[\n",
    "    'id',\n",
    "    'received_time',\n",
    "    'solution_time',\n",
    "    'last_communication_time',\n",
    "    'derived_completed_time',\n",
    "    'time_bins_derived',\n",
    "    'time_bins_solution',\n",
    "    'time_bins_solution_timestamp',\n",
    "]]\n",
    "df.to_csv('data/label_time_complete.csv', index=False)"
   ],
   "metadata": {
    "collapsed": false,
    "pycharm": {
     "name": "#%%\n"
    }
   }
  }
 ],
 "metadata": {
  "kernelspec": {
   "display_name": "Python 3",
   "language": "python",
   "name": "python3"
  },
  "language_info": {
   "codemirror_mode": {
    "name": "ipython",
    "version": 2
   },
   "file_extension": ".py",
   "mimetype": "text/x-python",
   "name": "python",
   "nbconvert_exporter": "python",
   "pygments_lexer": "ipython2",
   "version": "2.7.6"
  }
 },
 "nbformat": 4,
 "nbformat_minor": 0
}
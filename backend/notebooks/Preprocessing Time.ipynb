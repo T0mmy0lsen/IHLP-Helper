{
 "cells": [
  {
   "cell_type": "code",
   "execution_count": 1,
   "outputs": [],
   "source": [
    "import pandas as pd\n",
    "import bs4\n",
    "import re\n",
    "\n",
    "from tqdm.notebook import tqdm\n",
    "tqdm.pandas()"
   ],
   "metadata": {
    "collapsed": false,
    "pycharm": {
     "name": "#%%\n"
    }
   }
  },
  {
   "cell_type": "markdown",
   "source": [
    "### Getting the files\n",
    "We have the raw files from the database.\n",
    "These are extracted in **Microsoft SQL Manager Studio 18**, by calling a `SELECT * FROM TABLE`.\n",
    "Then, on the result-set right-click and press `save result as`."
   ],
   "metadata": {
    "collapsed": false,
    "pycharm": {
     "name": "#%% md\n"
    }
   }
  },
  {
   "cell_type": "code",
   "execution_count": 2,
   "outputs": [],
   "source": [
    "PATH_REQUESTS = 'data/database/Requests.csv'\n",
    "\n",
    "df = pd.read_csv(PATH_REQUESTS,\n",
    "                 encoding='UTF-8',\n",
    "                 delimiter=';',\n",
    "                 quotechar='\"',\n",
    "                 dtype=str,\n",
    "                 usecols=['id', 'timeConsumption'])\n",
    "\n",
    "df = df.fillna('')"
   ],
   "metadata": {
    "collapsed": false,
    "pycharm": {
     "name": "#%%\n"
    }
   }
  },
  {
   "cell_type": "code",
   "execution_count": 3,
   "outputs": [],
   "source": [
    "df = df[df['timeConsumption'] != '']\n",
    "df['timeConsumption_reduced'] = df.apply(\n",
    "    lambda x: float(x['timeConsumption']) if float(x['timeConsumption']) < 50.0 else 50.0, axis=1)\n",
    "\n",
    "df['label_time'] = df['timeConsumption_reduced']\n",
    "df['label_bins'] = pd.cut(df['label_time'], bins=[0.0, 2.0, 5.0, 10.0, 25.0, 50.0], labels=[0, 1, 2, 3, 4])\n",
    "df[['id', 'label_bins', 'label_time']].to_csv('data/label_time.csv', index=False)"
   ],
   "metadata": {
    "collapsed": false,
    "pycharm": {
     "name": "#%%\n"
    }
   }
  },
  {
   "cell_type": "code",
   "execution_count": 4,
   "outputs": [],
   "source": [
    "# df_out = pd.read_csv('data/label_time.csv')\n",
    "# df_out.describe()\n",
    "# df_out['label_bins'].plot(kind='hist')\n",
    "# df['label_time'].plot(kind='hist')"
   ],
   "metadata": {
    "collapsed": false,
    "pycharm": {
     "name": "#%%\n"
    }
   }
  },
  {
   "cell_type": "code",
   "execution_count": 5,
   "outputs": [
    {
     "name": "stdout",
     "output_type": "stream",
     "text": [
      "257899\n"
     ]
    }
   ],
   "source": [
    "import numpy as np\n",
    "import pandas as pd\n",
    "\n",
    "df_user = pd.read_csv('data/label_users_top_100.csv')\n",
    "df_time = pd.read_csv('data/label_time.csv')\n",
    "\n",
    "print(len(df_user))\n",
    "\n",
    "df = pd.merge(df_user, df_time, on='id', how='left')\n",
    "df = df.fillna('')\n",
    "df = df[df['label_bins'] != '']\n",
    "\n",
    "df[['id', 'label_bins']].to_csv('data/label_bins.csv', index=False)\n",
    "\n",
    "df['tmp'] = (df.label_encoded * 5) + df.label_bins\n",
    "df['label_time_encoded'] = df.apply(lambda x: int(x['tmp']), axis=1)\n",
    "\n",
    "df[['id', 'label_closed', 'label_time_encoded']].to_csv('data/label_time_encoded.csv', index=False)"
   ],
   "metadata": {
    "collapsed": false,
    "pycharm": {
     "name": "#%%\n"
    }
   }
  }
 ],
 "metadata": {
  "kernelspec": {
   "display_name": "Python 3",
   "language": "python",
   "name": "python3"
  },
  "language_info": {
   "codemirror_mode": {
    "name": "ipython",
    "version": 2
   },
   "file_extension": ".py",
   "mimetype": "text/x-python",
   "name": "python",
   "nbconvert_exporter": "python",
   "pygments_lexer": "ipython2",
   "version": "2.7.6"
  }
 },
 "nbformat": 4,
 "nbformat_minor": 0
}
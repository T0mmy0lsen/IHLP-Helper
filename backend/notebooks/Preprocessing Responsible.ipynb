{
 "cells": [
  {
   "cell_type": "code",
   "execution_count": 174,
   "outputs": [],
   "source": [
    "import pandas as pd\n",
    "import bs4\n",
    "import re\n",
    "\n",
    "from tqdm.notebook import tqdm\n",
    "tqdm.pandas()\n",
    "DEBUG = False"
   ],
   "metadata": {
    "collapsed": false,
    "pycharm": {
     "name": "#%%\n"
    }
   }
  },
  {
   "cell_type": "markdown",
   "source": [
    "### Getting the files\n",
    "We have the raw files from the database.\n",
    "These are extracted in **Microsoft SQL Manager Studio 18**, by calling a `SELECT * FROM TABLE`.\n",
    "Then, on the result-set right-click and press `save result as`."
   ],
   "metadata": {
    "collapsed": false,
    "pycharm": {
     "name": "#%% md\n"
    }
   }
  },
  {
   "cell_type": "code",
   "execution_count": 175,
   "outputs": [],
   "source": [
    "PATH_REQUESTS = 'data/database/Requests.csv'\n",
    "\n",
    "df_requests = pd.read_csv(PATH_REQUESTS,\n",
    "                 encoding='UTF-8',\n",
    "                 delimiter=';',\n",
    "                 quotechar='\"',\n",
    "                 dtype=str,\n",
    "                 usecols=['id'])\n",
    "\n",
    "df_requests = df_requests.fillna('')\n",
    "if DEBUG:\n",
    "    df_requests = df_requests[df_requests['id'] == '109842828']"
   ],
   "metadata": {
    "collapsed": false,
    "pycharm": {
     "name": "#%%\n"
    }
   }
  },
  {
   "cell_type": "code",
   "execution_count": 176,
   "outputs": [],
   "source": [
    "PATH_RELATIONS = 'data/database/RelationHistory.csv'\n",
    "\n",
    "df_relations = pd.read_csv(PATH_RELATIONS,\n",
    "                 encoding='UTF-8',\n",
    "                 delimiter=';',\n",
    "                 quotechar='\"',\n",
    "                 dtype=str,\n",
    "                 usecols=['tblid', 'leftID', 'rightID'])\n",
    "\n",
    "if DEBUG:\n",
    "    df_relations = df_relations[df_relations['leftID'] == '109842828']\n",
    "\n",
    "df_relations = df_relations.fillna('')\n",
    "df_relations = df_relations.sort_values(by=['tblid'])\n",
    "df_relations = df_relations.drop_duplicates(subset=['tblid'], keep='last')\n",
    "df_relations = df_relations.rename(columns={'leftID': 'leftId', 'rightID': 'rightId'})"
   ],
   "metadata": {
    "collapsed": false,
    "pycharm": {
     "name": "#%%\n"
    }
   }
  },
  {
   "cell_type": "code",
   "execution_count": 177,
   "outputs": [],
   "source": [
    "df_r = pd.merge(df_requests, df_relations, left_on='id', right_on='leftId', how='left')\n",
    "df_r = df_r.drop(columns=['id'])"
   ],
   "metadata": {
    "collapsed": false,
    "pycharm": {
     "name": "#%%\n"
    }
   }
  },
  {
   "cell_type": "code",
   "execution_count": 178,
   "outputs": [],
   "source": [
    "def name_changed(x):\n",
    "    if x['name'] == 'RequestIncidentResponsible':\n",
    "        return 'RequestServiceResponsible'\n",
    "    if x['name'] == 'RequestIncidentReceivedBy':\n",
    "        return 'RequestServiceReceivedBy'\n",
    "    if x['name'] == 'RequestIncidentUser':\n",
    "        return 'RequestServiceUser'\n",
    "    return x['name']"
   ],
   "metadata": {
    "collapsed": false,
    "pycharm": {
     "name": "#%%\n"
    }
   }
  },
  {
   "cell_type": "code",
   "execution_count": 179,
   "outputs": [],
   "source": [
    "PATH_OBJECTS = 'data/database/ObjectHistory.csv'\n",
    "\n",
    "df_objects = pd.read_csv(PATH_OBJECTS,\n",
    "                 encoding='UTF-8',\n",
    "                 delimiter=';',\n",
    "                 quotechar='\"',\n",
    "                 dtype=str,\n",
    "                 usecols=['tblid', 'name'])\n",
    "\n",
    "df_objects = df_objects.fillna('')\n",
    "df_objects = df_objects[df_objects['name'].isin([\n",
    "    'RequestServiceResponsible',\n",
    "    'RequestServiceReceivedBy',\n",
    "    'RequestServiceUser',\n",
    "    'RequestIncidentResponsible',\n",
    "    'RequestIncidentReceivedBy',\n",
    "    'RequestIncidentUser',\n",
    "])]\n",
    "\n",
    "df_objects['name_changed'] = df_objects.apply(lambda x: name_changed(x), axis=1)\n",
    "df_objects = df_objects.drop(columns=['name'])\n",
    "\n",
    "df_objects = df_objects.sort_values(by=['tblid'])\n",
    "df_objects = df_objects.rename(columns={'tblid': 'objectTblid'})"
   ],
   "metadata": {
    "collapsed": false,
    "pycharm": {
     "name": "#%%\n"
    }
   }
  },
  {
   "cell_type": "code",
   "execution_count": 180,
   "outputs": [],
   "source": [
    "df_o = pd.merge(df_r, df_objects, left_on='tblid', right_on='objectTblid', how='inner')\n",
    "df_o = df_o.drop_duplicates(subset=['leftId', 'name_changed'], keep='last')\n",
    "df_o = df_o.drop(columns=['tblid', 'objectTblid'])"
   ],
   "metadata": {
    "collapsed": false,
    "pycharm": {
     "name": "#%%\n"
    }
   }
  },
  {
   "cell_type": "code",
   "execution_count": 181,
   "outputs": [],
   "source": [
    "PATH_ITEMS = 'data/database/Items.csv'\n",
    "\n",
    "df_items = pd.read_csv(PATH_ITEMS,\n",
    "                 encoding='UTF-8',\n",
    "                 delimiter=';',\n",
    "                 quotechar='\"',\n",
    "                 dtype=str,\n",
    "                 usecols=['id', 'username'])\n",
    "\n",
    "df_items = df_items.fillna('')\n",
    "df_items = df_items[df_items['username'] != '']\n",
    "df_items = df_items.rename(columns={'id': 'itemId'})"
   ],
   "metadata": {
    "collapsed": false,
    "pycharm": {
     "name": "#%%\n"
    }
   }
  },
  {
   "cell_type": "code",
   "execution_count": 182,
   "outputs": [],
   "source": [
    "df_i = pd.merge(df_o, df_items, left_on='rightId', right_on='itemId', how='inner')\n",
    "df_i = df_i.drop(columns=['rightId', 'itemId'])"
   ],
   "metadata": {
    "collapsed": false,
    "pycharm": {
     "name": "#%%\n"
    }
   }
  },
  {
   "cell_type": "code",
   "execution_count": 183,
   "outputs": [],
   "source": [
    "df_i = df_i.sort_values(by='name_changed')\n"
   ],
   "metadata": {
    "collapsed": false,
    "pycharm": {
     "name": "#%%\n"
    }
   }
  },
  {
   "cell_type": "code",
   "execution_count": 184,
   "outputs": [
    {
     "name": "stderr",
     "output_type": "stream",
     "text": [
      "C:\\Users\\Tommy\\AppData\\Local\\Temp\\ipykernel_11452\\3325679642.py:2: FutureWarning: In a future version of pandas all arguments of DataFrame.sort_index will be keyword-only.\n",
      "  df = df_i.set_index(['leftId', cc]).unstack().sort_index(1, level=1)\n"
     ]
    }
   ],
   "source": [
    "cc = df_i.groupby(['leftId']).cumcount() + 1\n",
    "df = df_i.set_index(['leftId', cc]).unstack().sort_index(1, level=1)\n",
    "df.columns = ['_'.join(map(str,i)) for i in df.columns]\n",
    "df.reset_index()\n",
    "df = df.fillna('unknown')"
   ],
   "metadata": {
    "collapsed": false,
    "pycharm": {
     "name": "#%%\n"
    }
   }
  },
  {
   "cell_type": "code",
   "execution_count": 185,
   "outputs": [],
   "source": [
    "def get_role(x, role):\n",
    "    if x['name_changed_1'][-len(role):] == role:\n",
    "        return x['username_1'].lower()\n",
    "    if x['name_changed_2'][-len(role):] == role:\n",
    "        return x['username_2'].lower()\n",
    "    if x['name_changed_3'][-len(role):] == role:\n",
    "        return x['username_3'].lower()\n",
    "    return 'unknown'\n",
    "\n",
    "def get_closed(x):\n",
    "    if x['label_responsible'] != 'unknown':\n",
    "        return x['label_responsible']\n",
    "    return x['label_received']\n",
    "\n",
    "df['label_user'] = df.apply(lambda x: get_role(x, 'User'), axis=1)\n",
    "df['label_received'] = df.apply(lambda x: get_role(x, 'ReceivedBy'), axis=1)\n",
    "df['label_responsible'] = df.apply(lambda x: get_role(x, 'Responsible'), axis=1)\n",
    "df['label_closed'] = df.apply(lambda x: get_closed(x), axis=1)"
   ],
   "metadata": {
    "collapsed": false,
    "pycharm": {
     "name": "#%%\n"
    }
   }
  },
  {
   "cell_type": "code",
   "execution_count": 186,
   "outputs": [],
   "source": [
    "df[['label_user', 'label_received', 'label_responsible', 'label_closed']].to_csv('data/label_users.csv')\n",
    "\n",
    "df = pd.read_csv('data/label_users.csv')\n",
    "df = df.rename(columns={'leftId': 'id'})\n",
    "\n",
    "df.to_csv('data/label_users.csv', index=False)"
   ],
   "metadata": {
    "collapsed": false,
    "pycharm": {
     "name": "#%%\n"
    }
   }
  },
  {
   "cell_type": "code",
   "execution_count": 190,
   "outputs": [
    {
     "name": "stderr",
     "output_type": "stream",
     "text": [
      "C:\\Users\\Tommy\\AppData\\Local\\Temp\\ipykernel_11452\\1091434805.py:14: SettingWithCopyWarning: \n",
      "A value is trying to be set on a copy of a slice from a DataFrame.\n",
      "Try using .loc[row_indexer,col_indexer] = value instead\n",
      "\n",
      "See the caveats in the documentation: https://pandas.pydata.org/pandas-docs/stable/user_guide/indexing.html#returning-a-view-versus-a-copy\n",
      "  tmp['label_encoded'] = label_encoder.transform(tmp['label_closed'])\n"
     ]
    }
   ],
   "source": [
    "from sklearn import preprocessing\n",
    "\n",
    "def get_labels(labels):\n",
    "    le = preprocessing.LabelEncoder()\n",
    "    le.fit(labels)\n",
    "    return le\n",
    "\n",
    "df = pd.read_csv('data/label_users.csv')\n",
    "df = df[df['label_closed'] != 'unknown']\n",
    "\n",
    "top_list = df['label_closed'].value_counts().index.tolist()\n",
    "tmp = df[df['label_closed'].isin(top_list[:100])]\n",
    "label_encoder = get_labels(tmp['label_closed'].to_numpy())\n",
    "tmp['label_encoded'] = label_encoder.transform(tmp['label_closed'])\n",
    "tmp[['id', 'label_closed', 'label_encoded']].to_csv('data/label_users_top_100.csv', index=False)"
   ],
   "metadata": {
    "collapsed": false,
    "pycharm": {
     "name": "#%%\n"
    }
   }
  }
 ],
 "metadata": {
  "kernelspec": {
   "display_name": "Python 3",
   "language": "python",
   "name": "python3"
  },
  "language_info": {
   "codemirror_mode": {
    "name": "ipython",
    "version": 2
   },
   "file_extension": ".py",
   "mimetype": "text/x-python",
   "name": "python",
   "nbconvert_exporter": "python",
   "pygments_lexer": "ipython2",
   "version": "2.7.6"
  }
 },
 "nbformat": 4,
 "nbformat_minor": 0
}
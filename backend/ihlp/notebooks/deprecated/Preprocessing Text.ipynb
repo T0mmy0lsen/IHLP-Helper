{
 "cells": [
  {
   "cell_type": "code",
   "execution_count": 1,
   "outputs": [],
   "source": [
    "import pandas as pd\n",
    "import bs4\n",
    "import re\n",
    "\n",
    "from tqdm.notebook import tqdm\n",
    "\n",
    "tqdm.pandas()"
   ],
   "metadata": {
    "collapsed": false,
    "pycharm": {
     "name": "#%%\n"
    }
   }
  },
  {
   "cell_type": "markdown",
   "source": [
    "### Getting the files\n",
    "We have the raw files from the database.\n",
    "These are extracted in **Microsoft SQL Manager Studio 18**, by calling a `SELECT * FROM TABLE`.\n",
    "Then, on the result-set right-click and press `save result as`."
   ],
   "metadata": {
    "collapsed": false,
    "pycharm": {
     "name": "#%% md\n"
    }
   }
  },
  {
   "cell_type": "code",
   "execution_count": 2,
   "outputs": [],
   "source": [
    "PATH_REQUESTS = 'data/database/Requests.csv'\n",
    "\n",
    "df = pd.read_csv(PATH_REQUESTS,  encoding='UTF-8',  delimiter=';', quotechar='\"', dtype=str)\n",
    "\n",
    "print('Length:', len(df))\n",
    "\n",
    "df = df[df['receivedDate'] < \"2022-09-01 00:00:00.000\"]\n",
    "df = df.fillna('')\n",
    "\n",
    "print('Length:', len(df))\n"
   ],
   "metadata": {
    "collapsed": false,
    "pycharm": {
     "name": "#%%\n"
    }
   }
  },
  {
   "cell_type": "code",
   "execution_count": 3,
   "outputs": [],
   "source": [
    "if False:\n",
    "    print(df.receivedVia.value_counts())\n",
    "    print(df.receivedVia.value_counts())\n",
    "    print(df[df.receivedVia == '5'].head())\n",
    "    print(df[df.receivedVia == '5'].iloc[0].description)\n",
    "\n",
    "# Remove receivedVia.isin(['69', '70', '5'])"
   ],
   "metadata": {
    "collapsed": false,
    "pycharm": {
     "name": "#%%\n"
    }
   }
  },
  {
   "cell_type": "code",
   "execution_count": 4,
   "outputs": [],
   "source": [
    "if False:\n",
    "    from transformers import AutoTokenizer\n",
    "\n",
    "    df = df[:10]\n",
    "\n",
    "    tokenizer = AutoTokenizer.from_pretrained(\"xlm-roberta-base\")\n",
    "\n",
    "    def tokenize_texts(sentences, max_length=512, padding='max_length'):\n",
    "        return tokenizer(\n",
    "            sentences,\n",
    "            truncation=False,\n",
    "            padding=padding,\n",
    "            max_length=max_length,\n",
    "            return_tensors=\"tf\"\n",
    "        )\n",
    "\n",
    "    tokenized_text = dict(tokenize_texts(list(df.description.values)))"
   ],
   "metadata": {
    "collapsed": false,
    "pycharm": {
     "name": "#%%\n"
    }
   }
  },
  {
   "cell_type": "code",
   "execution_count": 5,
   "outputs": [],
   "source": [
    "if False:\n",
    "    print(tokenized_text['input_ids'][3])\n",
    "    print(df.iloc[3].description)"
   ],
   "metadata": {
    "collapsed": false,
    "pycharm": {
     "name": "#%%\n"
    }
   }
  },
  {
   "cell_type": "code",
   "execution_count": 6,
   "outputs": [
    {
     "data": {
      "text/plain": "  0%|          | 0/302832 [00:00<?, ?it/s]",
      "application/vnd.jupyter.widget-view+json": {
       "version_major": 2,
       "version_minor": 0,
       "model_id": "c89256fc9f6b48f9a1a92645d78d3a28"
      },
      "application/json": {
       "n": 0,
       "total": 302832,
       "elapsed": 0.015957117080688477,
       "ncols": null,
       "nrows": null,
       "prefix": "",
       "ascii": false,
       "unit": "it",
       "unit_scale": false,
       "rate": null,
       "bar_format": null,
       "postfix": null,
       "unit_divisor": 1000,
       "initial": 0,
       "colour": null
      }
     },
     "metadata": {},
     "output_type": "display_data"
    },
    {
     "name": "stderr",
     "output_type": "stream",
     "text": [
      "C:\\Git\\ihlp-helper\\venv\\lib\\site-packages\\bs4\\__init__.py:435: MarkupResemblesLocatorWarning: The input looks more like a filename than markup. You may want to open this file and pass the filehandle into Beautiful Soup.\n",
      "  warnings.warn(\n"
     ]
    }
   ],
   "source": [
    "def text_combine_and_clean(x):\n",
    "    x = x['subject'] + \". \" + x['description']\n",
    "    x = bs4.BeautifulSoup(x, \"lxml\").text\n",
    "    x = x.replace(u'\\u00A0', ' ')\n",
    "    x = x.lower()\n",
    "    return x\n",
    "\n",
    "df['text'] = df.progress_apply(lambda x: text_combine_and_clean(x), axis=1)\n",
    "df[['id', 'text']].to_csv('data/text.csv', index=False)"
   ],
   "metadata": {
    "collapsed": false,
    "pycharm": {
     "name": "#%%\n"
    }
   }
  }
 ],
 "metadata": {
  "kernelspec": {
   "display_name": "Python 3",
   "language": "python",
   "name": "python3"
  },
  "language_info": {
   "codemirror_mode": {
    "name": "ipython",
    "version": 2
   },
   "file_extension": ".py",
   "mimetype": "text/x-python",
   "name": "python",
   "nbconvert_exporter": "python",
   "pygments_lexer": "ipython2",
   "version": "2.7.6"
  }
 },
 "nbformat": 4,
 "nbformat_minor": 0
}